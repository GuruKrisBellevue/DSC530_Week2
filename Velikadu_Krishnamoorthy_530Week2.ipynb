{
 "cells": [
  {
   "cell_type": "markdown",
   "id": "3c7f6587",
   "metadata": {},
   "source": [
    " # Guruprasad Velikadu Krishnamoorthy - Week 2 Assignment"
   ]
  },
  {
   "cell_type": "code",
   "execution_count": 1,
   "id": "938f3718",
   "metadata": {},
   "outputs": [
    {
     "name": "stdout",
     "output_type": "stream",
     "text": [
      "Hello World! My name is Guru Kris\n"
     ]
    }
   ],
   "source": [
    "# Display the text “Hello World! My name is ....\"\n",
    "name = \"Guru Kris\"\n",
    "print(f\"Hello World! My name is {name}\")"
   ]
  },
  {
   "cell_type": "code",
   "execution_count": 2,
   "id": "50e69017",
   "metadata": {},
   "outputs": [
    {
     "name": "stdout",
     "output_type": "stream",
     "text": [
      "Sum of the numbers 24 and 12  is 36 \n"
     ]
    }
   ],
   "source": [
    "# Add two numbers together\n",
    "number_1 = 24\n",
    "number_2 = 12\n",
    "\n",
    "# Calculating sum\n",
    "sum_of_num=number_1+number_2\n",
    "\n",
    "# Printing the sum\n",
    "print(f\"Sum of the numbers {number_1} and {number_2}  is {sum_of_num} \")"
   ]
  },
  {
   "cell_type": "code",
   "execution_count": 3,
   "id": "7afed1a5",
   "metadata": {},
   "outputs": [
    {
     "name": "stdout",
     "output_type": "stream",
     "text": [
      "Difference of the numbers 24 and 12 is 12\n"
     ]
    }
   ],
   "source": [
    "# Subtract a number from another number\n",
    "differnce=number_1 - number_2\n",
    "\n",
    "# printing the difference\n",
    "print(f\"Difference of the numbers {number_1} and {number_2} is {differnce}\")\n"
   ]
  },
  {
   "cell_type": "code",
   "execution_count": 4,
   "id": "d926c327",
   "metadata": {},
   "outputs": [
    {
     "name": "stdout",
     "output_type": "stream",
     "text": [
      "Product of the numbers 24 and 12 is 288\n"
     ]
    }
   ],
   "source": [
    "# Multiply two numbers\n",
    "product=number_1 * number_2\n",
    "\n",
    "# Print the product of 2 numbers\n",
    "print(f\"Product of the numbers {number_1} and {number_2} is {product}\")"
   ]
  },
  {
   "cell_type": "code",
   "execution_count": 5,
   "id": "45ee351c",
   "metadata": {},
   "outputs": [
    {
     "name": "stdout",
     "output_type": "stream",
     "text": [
      "Division of the numbers 24 and 12 is 2.0\n"
     ]
    }
   ],
   "source": [
    "# Divide between two numbers\n",
    "\n",
    "division=number_1 / number_2\n",
    "\n",
    "# Print the division of 2 numbers\n",
    "print(f\"Division of the numbers {number_1} and {number_2} is {division}\")"
   ]
  },
  {
   "cell_type": "code",
   "execution_count": 6,
   "id": "7aebd157",
   "metadata": {},
   "outputs": [
    {
     "name": "stdout",
     "output_type": "stream",
     "text": [
      "The Capital of Wyoming is Cheyenne\n",
      "The Capital of Wyoming is Cheyenne\n"
     ]
    }
   ],
   "source": [
    "# Concatenate two strings together (any words)\n",
    "\n",
    "string_1 =\"The Capital of Wyoming is\"\n",
    "string_2= \"Cheyenne\"\n",
    "# Concatenating the string\n",
    "wyoming = string_1+ \" \" +string_2\n",
    "print(wyoming)\n",
    "\n",
    "# Using f string\n",
    "print(f\"{string_1} {string_2}\")"
   ]
  },
  {
   "cell_type": "code",
   "execution_count": 7,
   "id": "c85db490",
   "metadata": {},
   "outputs": [
    {
     "name": "stdout",
     "output_type": "stream",
     "text": [
      " The Top two Big cities in Montana with Population: ['Billings', 115689, 'Missoula', 73300]\n"
     ]
    }
   ],
   "source": [
    "# Create a list of 4 items (can be strings, numbers, both)\n",
    "\n",
    "cities_in_montana_population=[\"Billings\",115689, \"Missoula\",73300]\n",
    "print(f\" The Top two Big cities in Montana with Population: \n",
    "      {cities_in_montana_population}\")"
   ]
  },
  {
   "cell_type": "code",
   "execution_count": 8,
   "id": "b9846e17",
   "metadata": {},
   "outputs": [
    {
     "name": "stdout",
     "output_type": "stream",
     "text": [
      " The top Three Big cities in Montana with Population: ['Billings', 115689, 'Missoula', 73300, 'Great Falls', 60381]\n"
     ]
    }
   ],
   "source": [
    "# Append an item to your list (again, can be a string, number)\n",
    "\n",
    "cities_in_montana_population.append(\"Great Falls\")\n",
    "cities_in_montana_population.append(60381)\n",
    "\n",
    "# Printing the list after appending\n",
    "print(f\" The top Three Big cities in Montana with Population:\n",
    "      {cities_in_montana_population}\")\n"
   ]
  },
  {
   "cell_type": "code",
   "execution_count": 9,
   "id": "9586f3fb",
   "metadata": {},
   "outputs": [
    {
     "name": "stdout",
     "output_type": "stream",
     "text": [
      "Most populated cities in Vermont are ('Burlington', 'Essex', 'South Burlington', 'Colchester')\n"
     ]
    }
   ],
   "source": [
    "# Create a tuple with 4 items (can be strings, numbers, both)\n",
    "\n",
    "vermont_Cities =(\"Burlington\",\"Essex\",\"South Burlington\",\"Colchester\")\n",
    "# Print the tuple\n",
    "print(f\"Most populated cities in Vermont are {vermont_Cities}\")"
   ]
  }
 ],
 "metadata": {
  "kernelspec": {
   "display_name": "Python 3 (ipykernel)",
   "language": "python",
   "name": "python3"
  },
  "language_info": {
   "codemirror_mode": {
    "name": "ipython",
    "version": 3
   },
   "file_extension": ".py",
   "mimetype": "text/x-python",
   "name": "python",
   "nbconvert_exporter": "python",
   "pygments_lexer": "ipython3",
   "version": "3.9.13"
  }
 },
 "nbformat": 4,
 "nbformat_minor": 5
}
